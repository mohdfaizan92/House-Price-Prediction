{
 "cells": [
  {
   "cell_type": "code",
   "execution_count": 5,
   "id": "5a5179a3-0341-4b16-8d04-4250c5a4b062",
   "metadata": {},
   "outputs": [],
   "source": [
    "import numpy as np\n",
    "from joblib import dump, load\n",
    "model = load('Dragon.joblib')"
   ]
  },
  {
   "cell_type": "code",
   "execution_count": 13,
   "id": "7f7bfe91-8ed4-4b7f-bf5b-765592a639d8",
   "metadata": {},
   "outputs": [
    {
     "data": {
      "text/plain": [
       "array([22.349])"
      ]
     },
     "execution_count": 13,
     "metadata": {},
     "output_type": "execute_result"
    }
   ],
   "source": [
    "features = np.array([-0.43942006,  3.12777928, -1.11944326, -0.27288841, -1.37400695,\n",
    "       -0.19875066, -1.29715119,  2.60580917, -1.00110501, -0.56960163,\n",
    "       -0.88079023,  0.41509522, -0.85712979])\n",
    "model.predict([features])"
   ]
  },
  {
   "cell_type": "code",
   "execution_count": null,
   "id": "a6a82b0b-dbc3-4983-aa9e-593f8ecc3d84",
   "metadata": {},
   "outputs": [],
   "source": []
  }
 ],
 "metadata": {
  "kernelspec": {
   "display_name": "Python 3 (ipykernel)",
   "language": "python",
   "name": "python3"
  },
  "language_info": {
   "codemirror_mode": {
    "name": "ipython",
    "version": 3
   },
   "file_extension": ".py",
   "mimetype": "text/x-python",
   "name": "python",
   "nbconvert_exporter": "python",
   "pygments_lexer": "ipython3",
   "version": "3.12.6"
  }
 },
 "nbformat": 4,
 "nbformat_minor": 5
}
